{
 "cells": [
  {
   "cell_type": "code",
   "execution_count": 3,
   "metadata": {},
   "outputs": [],
   "source": [
    "import h5py\n",
    "import torch\n",
    "import torch.nn as nn\n",
    "import numpy as np\n",
    "import torch.nn.functional as F\n",
    "\n",
    "from pdebench.models.fno.fno import FNO1d, FNO2d, FNO3d\n",
    "\n",
    "device = torch.device('cuda' if torch.cuda.is_available() else 'cpu')"
   ]
  },
  {
   "cell_type": "code",
   "execution_count": 4,
   "metadata": {},
   "outputs": [],
   "source": [
    "problem_instance = \"1D_CFD_Rand_Eta1.e-8_Zeta1.e-8_periodic_Train\"\n",
    "model_fn = f\"/home/yppatel/mcufno/pdebench/models/trained_models/{problem_instance}_FNO.pt\"\n",
    "data_fn  = f\"/home/yppatel/mcufno/pdebench/data_download/data/{problem_instance}.hdf5\""
   ]
  },
  {
   "cell_type": "code",
   "execution_count": 5,
   "metadata": {},
   "outputs": [],
   "source": [
    "cfg = {\n",
    "    \"num_channels\": 3, \n",
    "    \"modes\": 12, \n",
    "    \"width\": 20,\n",
    "    \"initial_step\": 10, \n",
    "}"
   ]
  },
  {
   "cell_type": "code",
   "execution_count": 6,
   "metadata": {},
   "outputs": [],
   "source": [
    "model = FNO1d(\n",
    "    num_channels=cfg[\"num_channels\"],\n",
    "    width=cfg[\"width\"],\n",
    "    modes=cfg[\"modes\"],\n",
    "    initial_step=cfg[\"initial_step\"]\n",
    ").to(device)"
   ]
  },
  {
   "cell_type": "code",
   "execution_count": 7,
   "metadata": {},
   "outputs": [
    {
     "data": {
      "text/plain": [
       "FNO1d(\n",
       "  (fc0): Linear(in_features=31, out_features=20, bias=True)\n",
       "  (conv0): SpectralConv1d()\n",
       "  (conv1): SpectralConv1d()\n",
       "  (conv2): SpectralConv1d()\n",
       "  (conv3): SpectralConv1d()\n",
       "  (w0): Conv1d(20, 20, kernel_size=(1,), stride=(1,))\n",
       "  (w1): Conv1d(20, 20, kernel_size=(1,), stride=(1,))\n",
       "  (w2): Conv1d(20, 20, kernel_size=(1,), stride=(1,))\n",
       "  (w3): Conv1d(20, 20, kernel_size=(1,), stride=(1,))\n",
       "  (fc1): Linear(in_features=20, out_features=128, bias=True)\n",
       "  (fc2): Linear(in_features=128, out_features=3, bias=True)\n",
       ")"
      ]
     },
     "execution_count": 7,
     "metadata": {},
     "output_type": "execute_result"
    }
   ],
   "source": [
    "checkpoint = torch.load(model_fn, map_location=device)\n",
    "model.load_state_dict(checkpoint['model_state_dict'])\n",
    "model.to(device)"
   ]
  },
  {
   "cell_type": "code",
   "execution_count": 8,
   "metadata": {},
   "outputs": [
    {
     "name": "stdout",
     "output_type": "stream",
     "text": [
      "model size: 0.167MB\n"
     ]
    }
   ],
   "source": [
    "param_size = 0\n",
    "for param in model.parameters():\n",
    "    param_size += param.nelement() * param.element_size()\n",
    "buffer_size = 0\n",
    "for buffer in model.buffers():\n",
    "    buffer_size += buffer.nelement() * buffer.element_size()\n",
    "\n",
    "size_all_mb = (param_size + buffer_size) / 1024**2\n",
    "print('model size: {:.3f}MB'.format(size_all_mb))"
   ]
  },
  {
   "cell_type": "code",
   "execution_count": 9,
   "metadata": {},
   "outputs": [],
   "source": [
    "import math as mt\n",
    "\n",
    "f = h5py.File(data_fn, \"r\")\n",
    "\n",
    "reduced_resolution = 1\n",
    "reduced_resolution_t = 1\n",
    "reduced_batch = 1\n",
    "\n",
    "_data = np.array(f['density'], dtype=np.float32)  # batch, time, x,...\n",
    "idx_cfd = _data.shape\n",
    "\n",
    "data = np.zeros([idx_cfd[0]//reduced_batch,\n",
    "                      idx_cfd[2]//reduced_resolution,\n",
    "                      mt.ceil(idx_cfd[1]/reduced_resolution_t),\n",
    "                      3],\n",
    "                    dtype=np.float32)\n",
    "#density\n",
    "_data = _data[::reduced_batch,::reduced_resolution_t,::reduced_resolution]\n",
    "## convert to [x1, ..., xd, t, v]\n",
    "_data = np.transpose(_data[:, :, :], (0, 2, 1))\n",
    "data[...,0] = _data   # batch, x, t, ch\n",
    "# pressure\n",
    "_data = np.array(f['pressure'], dtype=np.float32)  # batch, time, x,...\n",
    "_data = _data[::reduced_batch,::reduced_resolution_t,::reduced_resolution]\n",
    "## convert to [x1, ..., xd, t, v]\n",
    "_data = np.transpose(_data[:, :, :], (0, 2, 1))\n",
    "data[...,1] = _data   # batch, x, t, ch\n",
    "# Vx\n",
    "_data = np.array(f['Vx'], dtype=np.float32)  # batch, time, x,...\n",
    "_data = _data[::reduced_batch,::reduced_resolution_t,::reduced_resolution]\n",
    "## convert to [x1, ..., xd, t, v]\n",
    "_data = np.transpose(_data[:, :, :], (0, 2, 1))\n",
    "data[...,2] = _data   # batch, x, t, ch\n",
    "data = torch.tensor(data)"
   ]
  },
  {
   "cell_type": "code",
   "execution_count": 25,
   "metadata": {},
   "outputs": [],
   "source": [
    "grid = np.array(f[\"x-coordinate\"], dtype=np.float32)\n",
    "grid = torch.tensor(grid[::reduced_resolution], dtype=torch.float).unsqueeze(-1)"
   ]
  },
  {
   "cell_type": "code",
   "execution_count": 43,
   "metadata": {},
   "outputs": [],
   "source": [
    "quant_ft_prop = 0.25\n",
    "num_quant_ft  = int(quant_ft_prop * data.shape[0])"
   ]
  },
  {
   "cell_type": "code",
   "execution_count": 26,
   "metadata": {},
   "outputs": [],
   "source": [
    "# data: input tensor (first few time steps) [b, x1, ..., xd, t_init, v]\n",
    "# grid: meshgrid [b, x1, ..., xd, dims]\n",
    "\n",
    "# b: batch size\n",
    "# xi: discretization elements of dim i\n",
    "# t_init: time points for simulation\n",
    "# v: value (i.e. for scalar/vector valued field at loc in (space, time))\n",
    "sample_idx = 0\n",
    "batch_size = 100\n",
    "\n",
    "t_0 = 0\n",
    "t_F = t_0 + cfg[\"initial_step\"]\n",
    "xx = data[sample_idx:sample_idx+batch_size,:,t_0:t_F,:].to(device)\n",
    "yy = data[sample_idx:sample_idx+batch_size,:,t_F:t_F+1,:].to(device)\n",
    "\n",
    "inp_shape = list(xx.shape)\n",
    "inp_shape = inp_shape[:-2]\n",
    "inp_shape.append(-1)\n",
    "xx = xx.reshape(inp_shape)\n",
    "\n",
    "grid = grid.unsqueeze(0).repeat(batch_size,1,1).to(device)"
   ]
  },
  {
   "cell_type": "code",
   "execution_count": 61,
   "metadata": {},
   "outputs": [],
   "source": [
    "y_pred = model(xx, grid)"
   ]
  },
  {
   "cell_type": "code",
   "execution_count": 62,
   "metadata": {},
   "outputs": [],
   "source": [
    "squared_error = torch.sum((yy - y_pred) ** 2)"
   ]
  },
  {
   "cell_type": "code",
   "execution_count": 63,
   "metadata": {},
   "outputs": [],
   "source": [
    "def plot_result(res, ax):\n",
    "    plot_Y = res.cpu().detach().numpy()\n",
    "    for i in range(3):\n",
    "        plot_Y[:,:,i] -= np.min(plot_Y[:,:,i])\n",
    "        plot_Y[:,:,i] /= np.max(plot_Y[:,:,i])\n",
    "    ax.imshow(plot_Y, aspect=1/100)"
   ]
  },
  {
   "cell_type": "code",
   "execution_count": 64,
   "metadata": {},
   "outputs": [
    {
     "data": {
      "image/png": "[encoded data removed]",
      "text/plain": [
       "<Figure size 640x480 with 2 Axes>"
      ]
     },
     "metadata": {},
     "output_type": "display_data"
    }
   ],
   "source": [
    "import matplotlib.pyplot as plt\n",
    "\n",
    "fig, axs = plt.subplots(1, 2)\n",
    "plot_result(yy[0], axs[0])\n",
    "plot_result(y_pred[0], axs[1])"
   ]
  },
  {
   "cell_type": "code",
   "execution_count": null,
   "metadata": {},
   "outputs": [],
   "source": []
  },
  {
   "cell_type": "code",
   "execution_count": null,
   "metadata": {},
   "outputs": [],
   "source": []
  }
 ],
 "metadata": {
  "kernelspec": {
   "display_name": "chig",
   "language": "python",
   "name": "python3"
  },
  "language_info": {
   "codemirror_mode": {
    "name": "ipython",
    "version": 3
   },
   "file_extension": ".py",
   "mimetype": "text/x-python",
   "name": "python",
   "nbconvert_exporter": "python",
   "pygments_lexer": "ipython3",
   "version": "3.8.16"
  },
  "orig_nbformat": 4
 },
 "nbformat": 4,
 "nbformat_minor": 2
}
