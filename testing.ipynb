{
 "cells": [
  {
   "cell_type": "code",
   "execution_count": 1,
   "metadata": {},
   "outputs": [],
   "source": [
    "import torch\n",
    "import torch.nn as nn\n",
    "import numpy as np\n",
    "import torch.nn.functional as F\n",
    "\n",
    "from pdebench.models.fno.fno import FNO1d, FNO2d, FNO3d\n",
    "\n",
    "device = torch.device('cuda' if torch.cuda.is_available() else 'cpu')"
   ]
  },
  {
   "cell_type": "code",
   "execution_count": 2,
   "metadata": {},
   "outputs": [],
   "source": [
    "cfg = {\n",
    "    \"num_channels\": 4, \n",
    "    \"modes\": 12, \n",
    "    \"width\": 20, \n",
    "    \"scheduler_step\": 100, \n",
    "    \"scheduler_gamma\": 0.5, \n",
    "    \"initial_step\": 10\n",
    "}"
   ]
  },
  {
   "cell_type": "code",
   "execution_count": 3,
   "metadata": {},
   "outputs": [],
   "source": [
    "model = FNO2d(\n",
    "            num_channels=cfg[\"num_channels\"],\n",
    "            width=cfg[\"width\"],\n",
    "            modes1=cfg[\"modes\"],\n",
    "            modes2=cfg[\"modes\"],\n",
    "            initial_step=cfg[\"initial_step\"]).to(device)"
   ]
  },
  {
   "cell_type": "code",
   "execution_count": 4,
   "metadata": {},
   "outputs": [
    {
     "data": {
      "text/plain": [
       "FNO2d(\n",
       "  (fc0): Linear(in_features=42, out_features=20, bias=True)\n",
       "  (conv0): SpectralConv2d_fast()\n",
       "  (conv1): SpectralConv2d_fast()\n",
       "  (conv2): SpectralConv2d_fast()\n",
       "  (conv3): SpectralConv2d_fast()\n",
       "  (w0): Conv2d(20, 20, kernel_size=(1, 1), stride=(1, 1))\n",
       "  (w1): Conv2d(20, 20, kernel_size=(1, 1), stride=(1, 1))\n",
       "  (w2): Conv2d(20, 20, kernel_size=(1, 1), stride=(1, 1))\n",
       "  (w3): Conv2d(20, 20, kernel_size=(1, 1), stride=(1, 1))\n",
       "  (fc1): Linear(in_features=20, out_features=128, bias=True)\n",
       "  (fc2): Linear(in_features=128, out_features=4, bias=True)\n",
       ")"
      ]
     },
     "execution_count": 4,
     "metadata": {},
     "output_type": "execute_result"
    }
   ],
   "source": [
    "model"
   ]
  }
 ],
 "metadata": {
  "kernelspec": {
   "display_name": "chig",
   "language": "python",
   "name": "python3"
  },
  "language_info": {
   "codemirror_mode": {
    "name": "ipython",
    "version": 3
   },
   "file_extension": ".py",
   "mimetype": "text/x-python",
   "name": "python",
   "nbconvert_exporter": "python",
   "pygments_lexer": "ipython3",
   "version": "3.8.16"
  },
  "orig_nbformat": 4
 },
 "nbformat": 4,
 "nbformat_minor": 2
}
