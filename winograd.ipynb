{
 "cells": [
  {
   "cell_type": "code",
   "execution_count": 12,
   "metadata": {},
   "outputs": [],
   "source": [
    "# Painful crude verification that 1D winograd from `wincnn.py` matches with `np.convolve`\n",
    "import wincnn\n",
    "import numpy as np\n",
    "import sympy as sp\n",
    "import time"
   ]
  },
  {
   "cell_type": "code",
   "execution_count": 13,
   "metadata": {},
   "outputs": [
    {
     "name": "stderr",
     "output_type": "stream",
     "text": [
      "/home/yppatel/mcufno/wincnn.py:19: SymPyDeprecationWarning: \n",
      "\n",
      "non-Expr objects in a Matrix is deprecated. Matrix represents\n",
      "a mathematical matrix. To represent a container of non-numeric\n",
      "entities, Use a list of lists, TableForm, NumPy array, or some\n",
      "other data structure instead.\n",
      "\n",
      "See https://docs.sympy.org/latest/explanation/active-deprecations.html#deprecated-non-expr-in-matrix\n",
      "for details.\n",
      "\n",
      "This has been deprecated since SymPy version 1.9. It\n",
      "will be removed in a future version of SymPy.\n",
      "\n",
      "  return Matrix(n, 1, lambda i,j: Poly((reduce(mul, ((x-a[k] if k!=i else 1) for k in range(0,n)), 1)).expand(basic=True), x))\n"
     ]
    }
   ],
   "source": [
    "# n is input size\n",
    "# r is filter size\n",
    "n = 2\n",
    "r = 3\n",
    "alpha = n + r - 1\n",
    "\n",
    "# Winograd\n",
    "AT, G, BT, f = wincnn.cookToomFilter((0, 1, -1), 2, 3, wincnn.FractionsInG)\n",
    "\n",
    "B = BT.transpose()\n",
    "A = AT.transpose()\n",
    "\n",
    "di = wincnn.IndexedBase('d')\n",
    "gi = wincnn.IndexedBase('g')\n",
    "\n",
    "d = wincnn.Matrix(n, 1, lambda i, j: di[i])\n",
    "g = wincnn.Matrix(r, 1, lambda i, j: gi[i])\n",
    "\n",
    "V = A * d\n",
    "U = G * g\n",
    "\n",
    "M = U.multiply_elementwise(V)\n",
    "Y = wincnn.simplify(B * M)\n",
    "\n",
    "d0, d1, g0, g1, g2 = sp.symbols('d0 d1 g0 g1 g2')\n",
    "\n",
    "Y_indexed = sp.Matrix([\n",
    "    [            d0*g0],\n",
    "    [d0*g1 + d1*g0],\n",
    "    [d0*g2 + d1*g1],\n",
    "    [            d1*g2]])"
   ]
  },
  {
   "cell_type": "code",
   "execution_count": 18,
   "metadata": {},
   "outputs": [],
   "source": [
    "trials   = 10_000\n",
    "d_values_trials = np.random.random((trials, n)) \n",
    "g_values_trials = np.random.random((trials, r))"
   ]
  },
  {
   "cell_type": "code",
   "execution_count": 19,
   "metadata": {},
   "outputs": [],
   "source": [
    "def time_method(method_name, d_values_trials, g_values_trials, trials=10_000):\n",
    "    t0 = time.time()\n",
    "    for trial in range(trials):\n",
    "        d_values, g_values = d_values_trials[trial], g_values_trials[trial]\n",
    "        if method_name == \"direct\":\n",
    "            result = np.convolve(d_values, g_values)\n",
    "        elif method_name == \"wino\":\n",
    "            subs = {d0: d_values[0], d1: d_values[1], g0: g_values[0], g1: g_values[1], g2: g_values[2]}\n",
    "            result = Y_indexed.subs(subs)\n",
    "    t1 = time.time()\n",
    "    return t1-t0, result"
   ]
  },
  {
   "cell_type": "code",
   "execution_count": 20,
   "metadata": {},
   "outputs": [
    {
     "name": "stdout",
     "output_type": "stream",
     "text": [
      "Direct time: (0.03495430946350098, array([0.21842409, 0.93066484, 1.13402111, 0.42391137])) vs Wino time: (60.94855332374573, Matrix([\n",
      "[0.218424094535654],\n",
      "[0.930664838785913],\n",
      "[ 1.13402111338575],\n",
      "[0.423911368403236]]))\n"
     ]
    }
   ],
   "source": [
    "time_direct = time_method(\"direct\", d_values_trials, g_values_trials)\n",
    "time_wino   = time_method(\"wino\", d_values_trials, g_values_trials)\n",
    "\n",
    "print(f\"Direct time: {time_direct} vs Wino time: {time_wino}\")"
   ]
  },
  {
   "cell_type": "code",
   "execution_count": null,
   "metadata": {},
   "outputs": [],
   "source": []
  }
 ],
 "metadata": {
  "kernelspec": {
   "display_name": "chig",
   "language": "python",
   "name": "python3"
  },
  "language_info": {
   "codemirror_mode": {
    "name": "ipython",
    "version": 3
   },
   "file_extension": ".py",
   "mimetype": "text/x-python",
   "name": "python",
   "nbconvert_exporter": "python",
   "pygments_lexer": "ipython3",
   "version": "3.8.16"
  }
 },
 "nbformat": 4,
 "nbformat_minor": 2
}
